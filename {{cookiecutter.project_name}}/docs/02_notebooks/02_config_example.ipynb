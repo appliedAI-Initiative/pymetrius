{
 "cells": [
  {
   "cell_type": "markdown",
   "metadata": {
    "pycharm": {
     "name": "#%% md\n"
    }
   },
   "source": [
    "# The configuration utils\n",
    "\n",
    "You decided to opt in to use appliedAI's [accsr](https://github.com/appliedAI-Initiative/accsr) package to manage\n",
    "configuration for you project - great choice :) In this template, you see a minimal usage of the `config.py`"
   ]
  },
  {
   "cell_type": "code",
   "execution_count": null,
   "metadata": {
    "pycharm": {
     "name": "#%%\n"
    }
   },
   "outputs": [],
   "source": [
    "# Note - this cell should be executed only once per session\n",
    "\n",
    "%load_ext autoreload\n",
    "%autoreload 2\n",
    "\n",
    "import os\n",
    "import sys\n",
    "\n",
    "# in order to get the config (it is not part of the library) and sane paths to data\n",
    "if os.path.basename(os.getcwd()) != \"02_notebooks\":\n",
    "    raise Exception(\"Wrong directory. Did you execute this cell twice?\")\n",
    "os.chdir(\"../..\")\n",
    "sys.path.append(os.path.abspath(\".\"))"
   ]
  },
  {
   "cell_type": "code",
   "execution_count": null,
   "metadata": {
    "pycharm": {
     "name": "#%%\n"
    }
   },
   "outputs": [],
   "source": [
    "from config import get_config\n",
    "\n",
    "c = get_config(reload=True)"
   ]
  },
  {
   "cell_type": "code",
   "execution_count": null,
   "metadata": {
    "pycharm": {
     "name": "#%%\n"
    }
   },
   "outputs": [],
   "source": [
    "# Here an example for using the config for finding and loading files\n",
    "\n",
    "sample_file = c.datafile_path(\"hello.txt\", stage=c.RAW)\n",
    "\n",
    "with open(sample_file) as file:\n",
    "    print(file.read())"
   ]
  }
 ],
 "metadata": {
  "kernelspec": {
   "display_name": "Python 3",
   "language": "python",
   "name": "python3"
  },
  "language_info": {
   "codemirror_mode": {
    "name": "ipython",
    "version": 2
   },
   "file_extension": ".py",
   "mimetype": "text/x-python",
   "name": "python",
   "nbconvert_exporter": "python",
   "pygments_lexer": "ipython2",
   "version": "2.7.6"
  }
 },
 "nbformat": 4,
 "nbformat_minor": 0
}
